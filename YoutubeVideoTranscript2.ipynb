{
  "nbformat": 4,
  "nbformat_minor": 0,
  "metadata": {
    "colab": {
      "provenance": [],
      "machine_shape": "hm",
      "gpuType": "T4",
      "authorship_tag": "ABX9TyMRwhKo+OJqI/tQYSWzTEuM",
      "include_colab_link": true
    },
    "kernelspec": {
      "name": "python3",
      "display_name": "Python 3"
    },
    "language_info": {
      "name": "python"
    },
    "accelerator": "GPU"
  },
  "cells": [
    {
      "cell_type": "markdown",
      "metadata": {
        "id": "view-in-github",
        "colab_type": "text"
      },
      "source": [
        "<a href=\"https://colab.research.google.com/github/recinilt/kodlama/blob/main/YoutubeVideoTranscript2.ipynb\" target=\"_parent\"><img src=\"https://colab.research.google.com/assets/colab-badge.svg\" alt=\"Open In Colab\"/></a>"
      ]
    },
    {
      "cell_type": "code",
      "source": [
        "#@title # 📝 YouTube Video Transkript Oluşturucu (GPU Destekli)\n",
        "\n",
        "import torch\n",
        "\n",
        "def gpu_baglanti_kontrol():\n",
        "    # GPU bağlantısını kontrol et\n",
        "    if torch.cuda.is_available():\n",
        "        gpu_tipi = torch.cuda.get_device_name(0)\n",
        "        print(f\"Zaten bir GPU'ya bağlısınız: {gpu_tipi}\")\n",
        "        return True\n",
        "    else:\n",
        "        print(\"GPU bağlantısı bulunamadı. T4 GPU'ya bağlanmaya çalışılıyor...\")\n",
        "        return False\n",
        "\n",
        "def t4_gpu_baglan():\n",
        "    try:\n",
        "        # GPU bağlı değilse runtime'ı değiştirmek için\n",
        "        from google.colab import runtime\n",
        "        runtime.change_runtime('accelerator', 'GPU')\n",
        "        print(\"T4 GPU'ya bağlanma işlemi başlatıldı. Notebook yeniden başlatılacak.\")\n",
        "        return True\n",
        "    except:\n",
        "        print(\"GPU bağlantısı yapılamadı. Manuel olarak 'Çalışma Zamanı > Çalışma zamanı türünü değiştir' menüsünden GPU seçeneğini etkinleştirin.\")\n",
        "        return False\n",
        "\n",
        "# GPU bağlantısını kontrol et ve gerekirse T4 GPU'ya bağlan\n",
        "if not gpu_baglanti_kontrol():\n",
        "    t4_gpu_baglan()\n",
        "\n",
        "\n",
        "\n",
        "import os\n",
        "import sys\n",
        "from IPython.display import HTML, display\n",
        "from IPython import get_ipython\n",
        "\n",
        "# GPU durumunu kontrol et\n",
        "gpu_var_mi = os.system('nvidia-smi > /dev/null 2>&1')\n",
        "\n",
        "if gpu_var_mi != 0:\n",
        "    # GPU bağlı değilse uyarı göster ve notebook'u durdur\n",
        "    display(HTML('''\n",
        "    <div style=\"background-color: #f8d7da; color: #721c24; padding: 15px; border: 1px solid #f5c6cb; border-radius: 5px; margin: 10px 0; font-size: 16px;\">\n",
        "        <h3 style=\"color: #721c24;\">❌ GPU BAĞLANTISI YOK!</h3>\n",
        "        <p><b>Bu notebook GPU gerektirir. Lütfen şu adımları izleyin:</b></p>\n",
        "        <ol>\n",
        "            <li>Üst menüden <b>Çalışma Zamanı</b> > <b>Çalışma zamanı türünü değiştir</b>'e tıklayın</li>\n",
        "            <li>'Donanım hızlandırıcı' altından <b>T4 GPU</b>'yu seçin</li>\n",
        "            <li><b>Kaydet</b>'e tıklayın ve notebook yeniden başlatıldığında kodu tekrar çalıştırın</li>\n",
        "        </ol>\n",
        "    </div>\n",
        "    '''))\n",
        "\n",
        "    # Tüm hücrelerin çalışmasını durdur - daha agresif yaklaşım\n",
        "    get_ipython().kernel.do_shutdown(True)\n",
        "    sys.exit(\"GPU bağlantısı olmadığı için notebook durduruldu.\")\n",
        "else:\n",
        "    print(\"✅ GPU bağlantısı mevcut. Notebook çalışmaya devam ediyor.\")\n",
        "\n",
        "print(\"Gerekli kütüphaneler yükleniyor...\")\n",
        "!pip install -q openai-whisper\n",
        "!pip install -q ffmpeg-python\n",
        "!apt-get -qq install ffmpeg\n",
        "print(\"Gerekli kütüphaneler yüklendi\")\n",
        "import os\n",
        "import re\n",
        "import time\n",
        "import glob\n",
        "import torch\n",
        "import whisper\n",
        "import base64\n",
        "import subprocess\n",
        "from pathlib import Path\n",
        "from datetime import timedelta\n",
        "from google.colab import files\n",
        "import IPython.display as display\n",
        "import gc  # Garbage collector\n",
        "\n",
        "# Gerekli kütüphaneleri yükle\n",
        "!pip install -q openai-whisper yt-dlp\n",
        "!apt-get -qq install ffmpeg\n",
        "\n",
        "\n",
        "\n",
        "print(\"# YouTube veya Yerel Video Transkript Oluşturucu\")\n",
        "print(\"Bu kodla YouTube videoları veya yerel dosyaları otomatik olarak işleyip transkript oluşturabilirsiniz.\\n\")\n",
        "print(\"📌 Not: YouTube videoları için en düşük görüntü kalitesi + en iyi ses kalitesi kullanılacak (daha hızlı indirme)\")\n",
        "\n",
        "#@markdown ## Video Kaynağı Seçimi ve Ayarlar\n",
        "\n",
        "#@markdown ### Video Kaynağı\n",
        "video_source = \"YouTube Linki\" #@param [\"YouTube Linki\", \"Yerel Dosya\"]\n",
        "\n",
        "#@markdown ### YouTube URL (YouTube seçiliyse doldurulmalı)\n",
        "youtube_url = \"https://www.youtube.com/watch?v=9jJt-ndMfVk&t=3s\" #@param {type:\"string\"}\n",
        "\n",
        "#@markdown ### Transkript Ayarları\n",
        "language = \"tr\" #@param [\"tr\", \"en\", \"de\", \"fr\", \"es\", \"it\", \"ru\", \"ar\", \"zh\", \"ja\", \"ko\", \"pt\"]\n",
        "model_size = \"large\" #@param [\"small\", \"medium\", \"large\"]\n",
        "high_quality = True #@param {type:\"boolean\"}\n",
        "timestamp_output = True #@param {type:\"boolean\"}\n",
        "\n",
        "#@markdown ### Video Bölme Ayarları (Uzun Videolar İçin)\n",
        "segment_length_minutes = 2 #@param {type:\"slider\", min:2, max:30, step:2}\n",
        "delete_segments_after = True #@param {type:\"boolean\"}\n",
        "\n",
        "# YouTube URL işleme ve ID çıkarma fonksiyonu\n",
        "def extract_youtube_id(url):\n",
        "  \"\"\"YouTube URL'sinden video ID'sini çıkarır\"\"\"\n",
        "  # & işareti varsa ilk kısmı al\n",
        "  if '&' in url:\n",
        "    url = url.split('&')[0]\n",
        "\n",
        "  # Standart YouTube URL formatları\n",
        "  patterns = [\n",
        "    r'(?:https?:\\/\\/)?(?:www\\.)?youtube\\.com\\/watch\\?v=([^\\/\\?\\&]+)',  # youtube.com/watch?v=ID\n",
        "    r'(?:https?:\\/\\/)?(?:www\\.)?youtube\\.com\\/embed\\/([^\\/\\?\\&]+)',    # youtube.com/embed/ID\n",
        "    r'(?:https?:\\/\\/)?(?:www\\.)?youtube\\.com\\/v\\/([^\\/\\?\\&]+)',        # youtube.com/v/ID\n",
        "    r'(?:https?:\\/\\/)?(?:www\\.)?youtube\\.com\\/shorts\\/([^\\/\\?\\&]+)',   # youtube.com/shorts/ID\n",
        "    r'(?:https?:\\/\\/)?(?:www\\.)?youtu\\.be\\/([^\\/\\?\\&]+)'               # youtu.be/ID\n",
        "  ]\n",
        "\n",
        "  # Her formatı dene\n",
        "  for pattern in patterns:\n",
        "    match = re.search(pattern, url)\n",
        "    if match:\n",
        "      return match.group(1)\n",
        "\n",
        "  # Hiçbir format eşleşmezse None döndür\n",
        "  return None\n",
        "\n",
        "def download_youtube_video(youtube_url, output_path=None):\n",
        "  \"\"\"YouTube videosunu indirir (yt-dlp kullanarak) - Ses odaklı, düşük görüntü kalitesi\"\"\"\n",
        "\n",
        "  # Video ID'sini çıkar\n",
        "  video_id = extract_youtube_id(youtube_url)\n",
        "  if not video_id:\n",
        "    raise ValueError(f\"Geçerli bir YouTube URL'si değil: {youtube_url}\")\n",
        "\n",
        "  print(f\"YouTube video ID: {video_id}\")\n",
        "  print(f\"Video indiriliyor (ses odaklı, düşük görüntü kalitesi)...\")\n",
        "\n",
        "  # Çıktı dosya adını belirle\n",
        "  if output_path is None:\n",
        "    #output_path = f\"youtube_video_{video_id}.mp4\"\n",
        "    output_path = f\"youtube_video_{video_id}.mp3\"\n",
        "\n",
        "  # yt-dlp kullanarak en düşük görüntü kalitesi + en iyi ses kalitesinde videoyu indir\n",
        "  #cmd = [\n",
        "  #    'yt-dlp',\n",
        "  #    '-f', 'worstvideo[ext=mp4]+bestaudio[ext=m4a]/worst[ext=mp4]/worst',\n",
        "  #    '-o', output_path,\n",
        "  #    youtube_url,\n",
        "  #    '--no-warnings',\n",
        "  #    '--quiet'\n",
        "  #]\n",
        "\n",
        "  cmd = [\n",
        "    'yt-dlp',\n",
        "    '-f', 'bestaudio[ext=m4a]/bestaudio',  # Sadece en iyi ses kanalını indir\n",
        "    '-o', output_path.replace('.mp4', '.m4a'),  # Uzantıyı .m4a olarak değiştir\n",
        "    youtube_url,\n",
        "    '--no-warnings',\n",
        "    '--quiet',\n",
        "    '--extract-audio',  # Sadece ses kanalını çıkar\n",
        "    '--audio-format', 'mp3',  # MP3 formatına dönüştür\n",
        "    '--audio-quality', '0',  # En yüksek ses kalitesi\n",
        "    '--force-ipv4',  # IPv4 kullan (bazen daha hızlı)\n",
        "    '--concurrent-fragments', '4'  # Paralel indirme parçaları\n",
        "]\n",
        "\n",
        "  try:\n",
        "    subprocess.run(cmd, check=True)\n",
        "\n",
        "    # Video süresini al\n",
        "    duration_cmd = [\n",
        "        'ffprobe',\n",
        "        '-v', 'error',\n",
        "        '-show_entries', 'format=duration',\n",
        "        '-of', 'default=noprint_wrappers=1:nokey=1',\n",
        "        output_path\n",
        "    ]\n",
        "    duration = float(subprocess.check_output(duration_cmd).decode('utf-8').strip())\n",
        "\n",
        "    # Video bilgilerini göster\n",
        "    print(f\"Video başarıyla indirildi: {output_path}\")\n",
        "    print(f\"Video uzunluğu: {duration:.1f} saniye ({format_time_duration(duration)})\")\n",
        "\n",
        "    return output_path\n",
        "  except subprocess.CalledProcessError as e:\n",
        "    raise Exception(f\"Video indirme hatası: {str(e)}\")\n",
        "\n",
        "def format_time(seconds):\n",
        "  \"\"\"Saniye cinsinden zamanı SS:DD:SS formatına dönüştürür\"\"\"\n",
        "  hours = int(seconds // 3600)\n",
        "  minutes = int((seconds % 3600) // 60)\n",
        "  seconds = int(seconds % 60)\n",
        "  return f\"{hours:02d}:{minutes:02d}:{seconds:02d}\"\n",
        "\n",
        "def format_time_duration(seconds):\n",
        "  \"\"\"Saniye cinsinden süreyi okunabilir formata dönüştürür\"\"\"\n",
        "  hours = int(seconds // 3600)\n",
        "  minutes = int((seconds % 3600) // 60)\n",
        "  secs = int(seconds % 60)\n",
        "\n",
        "  if hours > 0:\n",
        "    return f\"{hours} saat {minutes} dakika {secs} saniye\"\n",
        "  elif minutes > 0:\n",
        "    return f\"{minutes} dakika {secs} saniye\"\n",
        "  else:\n",
        "    return f\"{secs} saniye\"\n",
        "\n",
        "def download_link(path, filename):\n",
        "  \"\"\"Dosya indirme linki oluşturur\"\"\"\n",
        "  with open(path, 'r', encoding='utf-8') as f:\n",
        "    content = f.read()\n",
        "\n",
        "  b64 = base64.b64encode(content.encode('utf-8')).decode()\n",
        "\n",
        "  download_link_html = f'''\n",
        "  <div style=\"background-color: #f8f9fa; padding: 15px; border-radius: 5px; margin: 10px 0;\">\n",
        "    <p style=\"font-weight: bold; margin-bottom: 10px;\">Transkript başarıyla oluşturuldu!</p>\n",
        "    <a href=\"data:text/plain;base64,{b64}\" download=\"{filename}\"\n",
        "       style=\"background-color: #4CAF50; color: white; padding: 10px 20px; text-decoration: none;\n",
        "              border-radius: 4px; display: inline-block; margin-top: 5px;\">\n",
        "      Transkript Dosyasını İndir\n",
        "    </a>\n",
        "  </div>\n",
        "  '''\n",
        "\n",
        "  display.display(display.HTML(download_link_html))\n",
        "\n",
        "def get_video_duration(input_file):\n",
        "  \"\"\"Video süresini saniye cinsinden döndürür\"\"\"\n",
        "  cmd = [\n",
        "      'ffprobe',\n",
        "      '-v', 'error',\n",
        "      '-show_entries', 'format=duration',\n",
        "      '-of', 'default=noprint_wrappers=1:nokey=1',\n",
        "      input_file\n",
        "  ]\n",
        "  output = subprocess.check_output(cmd).decode('utf-8').strip()\n",
        "  return float(output)\n",
        "\n",
        "# Eksik olan optimize_for_whisper fonksiyonunu ekleyelim\n",
        "def optimize_for_whisper(video_path):\n",
        "    audio_path = f\"{Path(video_path).stem}_audio.mp3\"\n",
        "\n",
        "    cmd = [\n",
        "        'ffmpeg',\n",
        "        '-i', video_path,\n",
        "        '-vn',\n",
        "        '-c:a', 'mp3',\n",
        "        '-b:a', '192k',  # 128k yerine 192k kullan\n",
        "        '-ar', '16000',\n",
        "        '-ac', '1',\n",
        "        '-af', 'highpass=f=200,lowpass=f=3000,volume=2',  # Ses filtreleri ekle\n",
        "        '-y',\n",
        "        audio_path\n",
        "    ]\n",
        "\n",
        "    subprocess.run(cmd, stdout=subprocess.DEVNULL, stderr=subprocess.DEVNULL)\n",
        "    return audio_path\n",
        "\n",
        "def split_video_ffmpeg(input_file, segment_length=15, output_dir=None):\n",
        "  \"\"\"\n",
        "  Video veya ses dosyasını FFmpeg kullanarak hızlıca belirtilen dakikalık segmentlere böler\n",
        "\n",
        "  Args:\n",
        "    input_file: Kaynak video veya ses dosyası\n",
        "    segment_length: Her segmentin dakika cinsinden uzunluğu\n",
        "    output_dir: Çıktı dizini (None ise input_file'ın bulunduğu dizin kullanılır)\n",
        "\n",
        "  Returns:\n",
        "    Oluşturulan parça dosyalarının listesi\n",
        "  \"\"\"\n",
        "  if output_dir is None:\n",
        "    output_dir = os.path.dirname(input_file)\n",
        "    if output_dir == '':\n",
        "      output_dir = '.'\n",
        "\n",
        "  if not os.path.exists(output_dir):\n",
        "    os.makedirs(output_dir)\n",
        "\n",
        "  # Dosya süresini al\n",
        "  print(f\"Dosya inceleniyor: {input_file}\")\n",
        "  total_duration = get_video_duration(input_file)\n",
        "\n",
        "  # Segment sayısını hesapla\n",
        "  segment_length_sec = segment_length * 60\n",
        "  num_segments = int(total_duration / segment_length_sec) + (1 if total_duration % segment_length_sec > 0 else 0)\n",
        "\n",
        "  print(f\"Toplam süre: {total_duration/60:.1f} dakika ({format_time_duration(total_duration)})\")\n",
        "  print(f\"Dosya {num_segments} parçaya bölünecek ({segment_length} dakikalık dilimler)...\")\n",
        "\n",
        "  # Çıktı dosya listesi\n",
        "  output_files = []\n",
        "\n",
        "  # Dosya uzantısını al - aynı uzantıyı çıktılar için kullan\n",
        "  file_ext = os.path.splitext(input_file)[1]\n",
        "  if not file_ext:\n",
        "    file_ext = \".mp3\"  # Varsayılan uzantı\n",
        "\n",
        "  # Her segment için\n",
        "  for i in range(num_segments):\n",
        "    # Segment başlangıç ve bitiş zamanı\n",
        "    start_time = i * segment_length_sec\n",
        "    end_time = min((i + 1) * segment_length_sec, total_duration)\n",
        "\n",
        "    # Dosya adı\n",
        "    base_name = os.path.splitext(os.path.basename(input_file))[0]\n",
        "    output_file = os.path.join(output_dir, f\"{base_name}_part{i+1:02d}{file_ext}\")\n",
        "\n",
        "    # FFmpeg ile segmenti kes\n",
        "    print(f\"Bölüm {i+1}/{num_segments} kesiliyor ({format_time(start_time)} - {format_time(end_time)})...\")\n",
        "\n",
        "    # FFmpeg komutu - stream kopyalama modu (-c copy) ile hızlı kesme\n",
        "    cmd = [\n",
        "        'ffmpeg',\n",
        "        '-i', input_file,\n",
        "        '-ss', str(start_time),\n",
        "        '-to', str(end_time),\n",
        "        '-c', 'copy',  # Stream kopyalama - yeniden kodlama yok!\n",
        "        '-y',  # Mevcut dosyaların üzerine yaz\n",
        "        output_file\n",
        "    ]\n",
        "\n",
        "    # Komutu çalıştır\n",
        "    subprocess.run(cmd, stdout=subprocess.DEVNULL, stderr=subprocess.DEVNULL)\n",
        "\n",
        "    output_files.append(output_file)\n",
        "\n",
        "  print(f\"Bölme işlemi tamamlandı. {len(output_files)} parça oluşturuldu.\")\n",
        "  return output_files\n",
        "\n",
        "def transcribe_segment(audio_path, model, language=\"tr\", high_quality=True, timestamp_output=True):\n",
        "  \"\"\"Tek bir ses segmentinin transkriptini oluşturur\"\"\"\n",
        "\n",
        "  segment_start_time = time.time()\n",
        "  print(f\"Segment işleniyor: {os.path.basename(audio_path)}\")\n",
        "\n",
        "  try:\n",
        "    # Transkript ayarları\n",
        "    options = {\n",
        "      \"language\": language,\n",
        "      \"task\": \"transcribe\",\n",
        "      \"verbose\": False,\n",
        "    }\n",
        "\n",
        "    # Yüksek kalite için ek parametreler\n",
        "    if high_quality:\n",
        "      options.update({\n",
        "        \"beam_size\": 8,\n",
        "        \"best_of\": 8,\n",
        "        \"temperature\": [0.0, 0.2, 0.4, 0.6],\n",
        "        \"compression_ratio_threshold\": 2.0,\n",
        "        \"condition_on_previous_text\": True,\n",
        "        \"fp16\": False  # Yüksek kalite için FP32 kullan\n",
        "      })\n",
        "\n",
        "    # Bellek temizliği\n",
        "    gc.collect()\n",
        "    torch.cuda.empty_cache()\n",
        "\n",
        "    # Transkript oluştur\n",
        "    result = model.transcribe(audio_path, **options)\n",
        "\n",
        "    # Transkript metnini al\n",
        "    transcript_text = result[\"text\"]\n",
        "\n",
        "    # Çıktı dosya adını belirle\n",
        "    output_path = f\"{Path(audio_path).stem}_transkript.txt\"\n",
        "\n",
        "    # Transkripti dosyaya kaydet\n",
        "    with open(output_path, \"w\", encoding=\"utf-8\") as f:\n",
        "      f.write(transcript_text)\n",
        "\n",
        "      # Eğer segments bilgisi varsa ve zaman damgası istendiyse\n",
        "      if timestamp_output and \"segments\" in result:\n",
        "        f.write(\"\\n\\n## ZAMANLI TRANSKRİPT ##\\n\\n\")\n",
        "        for segment in result[\"segments\"]:\n",
        "          segment_start = segment[\"start\"]\n",
        "          segment_end = segment[\"end\"]\n",
        "          text = segment[\"text\"]\n",
        "          timestamp = f\"[{format_time(segment_start)} --> {format_time(segment_end)}]\"\n",
        "          f.write(f\"{timestamp} {text}\\n\")\n",
        "\n",
        "    # İşlem süresini hesapla\n",
        "    segment_elapsed_time = time.time() - segment_start_time\n",
        "    print(f\"Segment tamamlandı: {os.path.basename(output_path)}\")\n",
        "    print(f\"İşlem süresi: {segment_elapsed_time:.2f} saniye ({format_time_duration(segment_elapsed_time)})\")\n",
        "\n",
        "    # Orijinal result'ı bellekten temizlemek için sadece ihtiyacımız olan verileri saklayalım\n",
        "    segments_copy = None\n",
        "    if \"segments\" in result:\n",
        "      # Segment verilerinin hafif bir kopyasını oluşturalım\n",
        "      segments_copy = []\n",
        "      for segment in result[\"segments\"]:\n",
        "        segments_copy.append({\n",
        "          \"start\": segment[\"start\"],\n",
        "          \"end\": segment[\"end\"],\n",
        "          \"text\": segment[\"text\"]\n",
        "        })\n",
        "\n",
        "    # Artık ihtiyacımız olmayan result verisini temizleyelim\n",
        "    result = None\n",
        "\n",
        "    return {\n",
        "      \"path\": output_path,\n",
        "      \"text\": transcript_text,\n",
        "      \"segments\": segments_copy\n",
        "    }\n",
        "  except Exception as e:\n",
        "    print(f\"❌ Segment işleme hatası: {str(e)}\")\n",
        "    print(f\"Hatalı dosya: {audio_path}\")\n",
        "    import traceback\n",
        "    traceback.print_exc()\n",
        "    return {\n",
        "      \"path\": f\"{Path(audio_path).stem}_hata.txt\",\n",
        "      \"text\": f\"Transkript oluşturulamadı: {str(e)}\",\n",
        "      \"segments\": None\n",
        "    }\n",
        "\n",
        "def merge_transcripts(transcript_results, input_file, timestamp_output=True):\n",
        "  \"\"\"Tüm transkript sonuçlarını birleştirir ve bir dosyaya kaydeder\"\"\"\n",
        "\n",
        "  # Ana video dosya adını al\n",
        "  base_name = os.path.splitext(os.path.basename(input_file))[0]\n",
        "  full_transcript_path = f\"{base_name}_tam_transkript.txt\"\n",
        "\n",
        "  # Tüm metinleri birleştir\n",
        "  full_text = \"\"\n",
        "  all_segments = []\n",
        "  segment_time_offset = 0\n",
        "\n",
        "  # Her segment için\n",
        "  for i, result in enumerate(transcript_results):\n",
        "    # Tam metine bölüm bilgisini ve transkripti ekle\n",
        "    full_text += f\"\\n\\n--- BÖLÜM {i+1} ---\\n\\n\"\n",
        "    full_text += result[\"text\"]\n",
        "\n",
        "    # Zaman damgalı segmentleri ayarla\n",
        "    if timestamp_output and result[\"segments\"] is not None:\n",
        "      # Her segmentin zaman bilgisini orijinal videodaki konumuna göre ayarla\n",
        "      for segment in result[\"segments\"]:\n",
        "        # Yeni segment oluştur ve zaman bilgisini güncelle\n",
        "        adjusted_segment = segment.copy()\n",
        "        adjusted_segment[\"start\"] += segment_time_offset\n",
        "        adjusted_segment[\"end\"] += segment_time_offset\n",
        "        all_segments.append(adjusted_segment)\n",
        "\n",
        "      # Bir sonraki bölüm için zaman farkını güncelle\n",
        "      if result[\"segments\"]:\n",
        "        last_segment = result[\"segments\"][-1]\n",
        "        segment_time_offset += last_segment[\"end\"]\n",
        "\n",
        "  # Tam transkripti dosyaya kaydet\n",
        "  with open(full_transcript_path, \"w\", encoding=\"utf-8\") as f:\n",
        "    # Önce tam metni yaz\n",
        "    f.write(full_text)\n",
        "\n",
        "    # Eğer zaman damgalı çıktı isteniyorsa ve segmentler varsa\n",
        "    if timestamp_output and all_segments:\n",
        "      # Zaman damgalı transkripti ekle\n",
        "      f.write(\"\\n\\n## TAM ZAMANLI TRANSKRİPT ##\\n\\n\")\n",
        "      for segment in all_segments:\n",
        "        start_time = segment[\"start\"]\n",
        "        end_time = segment[\"end\"]\n",
        "        text = segment[\"text\"]\n",
        "        timestamp = f\"[{format_time(start_time)} --> {format_time(end_time)}]\"\n",
        "        f.write(f\"{timestamp} {text}\\n\")\n",
        "\n",
        "  print(f\"Tam transkript oluşturuldu: {full_transcript_path}\")\n",
        "  return full_transcript_path\n",
        "\n",
        "# Ana işlev\n",
        "def process_video_file(video_path, language=\"tr\", model_size=\"large\", high_quality=True,\n",
        "                        timestamp_output=True, segment_length_minutes=15, delete_segments_after=True):\n",
        "  \"\"\"\n",
        "  Yerel veya indirilen videoyu işleyip transkript oluşturur\n",
        "  \"\"\"\n",
        "  try:\n",
        "    total_start_time = time.time()\n",
        "\n",
        "    # Sadece ses kanalına dönüştür (optimize)\n",
        "    print(\"\\n--- 1. SES KANALI OPTİMİZASYONU ---\")\n",
        "    audio_path = optimize_for_whisper(video_path)\n",
        "    print(f\"Video ses kanalı çıkarıldı: {audio_path}\")\n",
        "\n",
        "    # 2. Ses dosyasını parçalara böl\n",
        "    print(\"\\n--- 2. SES BÖLME (FFmpeg ile Hızlı Kesim) ---\")\n",
        "    audio_segments = split_video_ffmpeg(audio_path, segment_length=segment_length_minutes)\n",
        "\n",
        "    # 3. GPU kontrolü\n",
        "    device = \"cuda\" if torch.cuda.is_available() else \"cpu\"\n",
        "    if device == \"cuda\":\n",
        "      print(f\"\\nGPU kullanılıyor: {torch.cuda.get_device_name(0)}\")\n",
        "    else:\n",
        "      print(\"\\nUYARI: GPU bulunamadı! CPU kullanılacak (çok yavaş olabilir)\")\n",
        "      print(\"Large model için GPU önerilir. Colab > Çalışma zamanı > Çalışma zamanı türünü değiştir > GPU seçeneğini kullanın\")\n",
        "\n",
        "    # 4. Whisper modelini yükle\n",
        "    print(f\"\\n--- 3. MODEL YÜKLEME ---\")\n",
        "    print(f\"{model_size} boyutunda model yükleniyor...\")\n",
        "\n",
        "    # Belleği temizle\n",
        "    gc.collect()\n",
        "    if device == \"cuda\":\n",
        "      torch.cuda.empty_cache()\n",
        "\n",
        "    # Modeli yükle\n",
        "    #model = whisper.load_model(model_size, device=device)\n",
        "    model = whisper.load_model(model_size, device=device, download_root=\"/tmp\")\n",
        "    print(f\"Model yüklendi\")\n",
        "\n",
        "    # 5. Her ses parçasını işle\n",
        "    print(f\"\\n--- 4. TRANSKRİPT OLUŞTURMA ---\")\n",
        "    transcript_results = []\n",
        "\n",
        "    for i, segment_path in enumerate(audio_segments):\n",
        "      print(f\"\\nSes parçası {i+1}/{len(audio_segments)} işleniyor...\")\n",
        "\n",
        "      # Transkript oluştur\n",
        "      result = transcribe_segment(\n",
        "        segment_path,\n",
        "        model,\n",
        "        language=language,\n",
        "        high_quality=high_quality,\n",
        "        timestamp_output=timestamp_output\n",
        "      )\n",
        "\n",
        "      # Sonucu listeye ekle\n",
        "      transcript_results.append(result)\n",
        "\n",
        "      # Segment işlendikten sonra belleği temizle\n",
        "      print(\"Bellek temizleniyor...\")\n",
        "      gc.collect()\n",
        "      torch.cuda.empty_cache()\n",
        "      print(\"Bellek temizlendi.\")\n",
        "\n",
        "    # 6. Tüm transkriptleri birleştir\n",
        "    print(f\"\\n--- 5. TRANSKRİPTLERİ BİRLEŞTİRME ---\")\n",
        "    full_transcript_path = merge_transcripts(\n",
        "      transcript_results,\n",
        "      video_path,\n",
        "      timestamp_output=timestamp_output\n",
        "    )\n",
        "\n",
        "    # 7. Dosya indirme bağlantısı oluştur\n",
        "    print(f\"\\n--- İŞLEM TAMAMLANDI ---\")\n",
        "    download_link(full_transcript_path, os.path.basename(full_transcript_path))\n",
        "\n",
        "    # 8. Geçici dosyaları temizle (isteğe bağlı)\n",
        "    if delete_segments_after:\n",
        "      print(\"\\nGeçici dosyalar temizleniyor...\")\n",
        "      # Ses parçalarını temizle\n",
        "      for segment_path in audio_segments:\n",
        "        if os.path.exists(segment_path):\n",
        "          os.remove(segment_path)\n",
        "        # Segment transkript dosyasını da temizle\n",
        "        transcript_path = f\"{Path(segment_path).stem}_transkript.txt\"\n",
        "        if os.path.exists(transcript_path):\n",
        "          os.remove(transcript_path)\n",
        "\n",
        "      # Ana ses dosyasını temizle\n",
        "      if os.path.exists(audio_path) and audio_path != video_path:  # Orijinal video dosyasını silmeyelim\n",
        "        os.remove(audio_path)\n",
        "\n",
        "      print(\"Geçici dosyalar temizlendi\")\n",
        "\n",
        "    # Toplam süreyi hesapla\n",
        "    total_elapsed_time = time.time() - total_start_time\n",
        "    print(f\"\\nToplam işlem süresi: {total_elapsed_time:.2f} saniye ({format_time_duration(total_elapsed_time)})\")\n",
        "\n",
        "    # Önizleme\n",
        "    print(\"\\nTRANSKRİPT ÖN İZLEME (ilk 500 karakter):\")\n",
        "    print(\"=\" * 80)\n",
        "    with open(full_transcript_path, 'r', encoding='utf-8') as f:\n",
        "      preview = f.read(500) + \"...\"\n",
        "      print(preview)\n",
        "    print(\"=\" * 80)\n",
        "\n",
        "    return full_transcript_path\n",
        "\n",
        "  except Exception as e:\n",
        "    print(f\"\\n❌ Hata oluştu: {str(e)}\")\n",
        "    import traceback\n",
        "    traceback.print_exc()\n",
        "    return None\n",
        "\n",
        "# Ana işlem bloğu\n",
        "try:\n",
        "  if video_source == \"YouTube Linki\":\n",
        "    if not youtube_url or youtube_url.strip() == \"\":\n",
        "      print(\"❌ Lütfen bir YouTube URL'si girin!\")\n",
        "    else:\n",
        "      # YouTube video ID'sini çıkar\n",
        "      video_id = extract_youtube_id(youtube_url)\n",
        "      if not video_id:\n",
        "        print(f\"❌ Geçerli bir YouTube URL'si değil: {youtube_url}\")\n",
        "      else:\n",
        "        # YouTube videosunu indir\n",
        "        video_path = download_youtube_video(youtube_url)\n",
        "\n",
        "        # Videoyu işle\n",
        "        process_video_file(\n",
        "          video_path,\n",
        "          language=language,\n",
        "          model_size=model_size,\n",
        "          high_quality=high_quality,\n",
        "          timestamp_output=timestamp_output,\n",
        "          segment_length_minutes=segment_length_minutes,\n",
        "          delete_segments_after=delete_segments_after\n",
        "        )\n",
        "  else:  # Yerel Dosya\n",
        "    # Dosya yükleme\n",
        "    uploaded_files = files.upload()\n",
        "\n",
        "    if uploaded_files:\n",
        "      uploaded_file_path = list(uploaded_files.keys())[0]\n",
        "      print(f\"✓ Video yüklendi: {uploaded_file_path}\")\n",
        "\n",
        "      # Videoyu işle\n",
        "      process_video_file(\n",
        "        uploaded_file_path,\n",
        "        language=language,\n",
        "        model_size=model_size,\n",
        "        high_quality=high_quality,\n",
        "        timestamp_output=timestamp_output,\n",
        "        segment_length_minutes=segment_length_minutes,\n",
        "        delete_segments_after=delete_segments_after\n",
        "      )\n",
        "    else:\n",
        "      print(\"❌ Dosya yükleme iptal edildi\")\n",
        "except Exception as e:\n",
        "  print(f\"❌ Genel bir hata oluştu: {str(e)}\")\n",
        "  import traceback\n",
        "  traceback.print_exc()"
      ],
      "metadata": {
        "colab": {
          "base_uri": "https://localhost:8080/"
        },
        "id": "MkvJLodhwUAA",
        "outputId": "d5c2bc48-c628-4606-80b9-d013eeb8a3f3"
      },
      "execution_count": null,
      "outputs": [
        {
          "output_type": "stream",
          "name": "stdout",
          "text": [
            "Zaten bir GPU'ya bağlısınız: Tesla T4\n",
            "✅ GPU bağlantısı mevcut. Notebook çalışmaya devam ediyor.\n",
            "Gerekli kütüphaneler yükleniyor...\n",
            "Gerekli kütüphaneler yüklendi\n",
            "# YouTube veya Yerel Video Transkript Oluşturucu\n",
            "Bu kodla YouTube videoları veya yerel dosyaları otomatik olarak işleyip transkript oluşturabilirsiniz.\n",
            "\n",
            "📌 Not: YouTube videoları için en düşük görüntü kalitesi + en iyi ses kalitesi kullanılacak (daha hızlı indirme)\n",
            "YouTube video ID: 9jJt-ndMfVk\n",
            "Video indiriliyor (ses odaklı, düşük görüntü kalitesi)...\n",
            "Video başarıyla indirildi: youtube_video_9jJt-ndMfVk.mp3\n",
            "Video uzunluğu: 8036.2 saniye (2 saat 13 dakika 56 saniye)\n",
            "\n",
            "--- 1. SES KANALI OPTİMİZASYONU ---\n",
            "Video ses kanalı çıkarıldı: youtube_video_9jJt-ndMfVk_audio.mp3\n",
            "\n",
            "--- 2. SES BÖLME (FFmpeg ile Hızlı Kesim) ---\n",
            "Dosya inceleniyor: youtube_video_9jJt-ndMfVk_audio.mp3\n",
            "Toplam süre: 133.9 dakika (2 saat 13 dakika 56 saniye)\n",
            "Dosya 67 parçaya bölünecek (2 dakikalık dilimler)...\n",
            "Bölüm 1/67 kesiliyor (00:00:00 - 00:02:00)...\n",
            "Bölüm 2/67 kesiliyor (00:02:00 - 00:04:00)...\n",
            "Bölüm 3/67 kesiliyor (00:04:00 - 00:06:00)...\n",
            "Bölüm 4/67 kesiliyor (00:06:00 - 00:08:00)...\n",
            "Bölüm 5/67 kesiliyor (00:08:00 - 00:10:00)...\n",
            "Bölüm 6/67 kesiliyor (00:10:00 - 00:12:00)...\n",
            "Bölüm 7/67 kesiliyor (00:12:00 - 00:14:00)...\n",
            "Bölüm 8/67 kesiliyor (00:14:00 - 00:16:00)...\n",
            "Bölüm 9/67 kesiliyor (00:16:00 - 00:18:00)...\n",
            "Bölüm 10/67 kesiliyor (00:18:00 - 00:20:00)...\n",
            "Bölüm 11/67 kesiliyor (00:20:00 - 00:22:00)...\n",
            "Bölüm 12/67 kesiliyor (00:22:00 - 00:24:00)...\n",
            "Bölüm 13/67 kesiliyor (00:24:00 - 00:26:00)...\n",
            "Bölüm 14/67 kesiliyor (00:26:00 - 00:28:00)...\n",
            "Bölüm 15/67 kesiliyor (00:28:00 - 00:30:00)...\n",
            "Bölüm 16/67 kesiliyor (00:30:00 - 00:32:00)...\n",
            "Bölüm 17/67 kesiliyor (00:32:00 - 00:34:00)...\n",
            "Bölüm 18/67 kesiliyor (00:34:00 - 00:36:00)...\n",
            "Bölüm 19/67 kesiliyor (00:36:00 - 00:38:00)...\n",
            "Bölüm 20/67 kesiliyor (00:38:00 - 00:40:00)...\n",
            "Bölüm 21/67 kesiliyor (00:40:00 - 00:42:00)...\n",
            "Bölüm 22/67 kesiliyor (00:42:00 - 00:44:00)...\n",
            "Bölüm 23/67 kesiliyor (00:44:00 - 00:46:00)...\n",
            "Bölüm 24/67 kesiliyor (00:46:00 - 00:48:00)...\n",
            "Bölüm 25/67 kesiliyor (00:48:00 - 00:50:00)...\n",
            "Bölüm 26/67 kesiliyor (00:50:00 - 00:52:00)...\n",
            "Bölüm 27/67 kesiliyor (00:52:00 - 00:54:00)...\n",
            "Bölüm 28/67 kesiliyor (00:54:00 - 00:56:00)...\n",
            "Bölüm 29/67 kesiliyor (00:56:00 - 00:58:00)...\n",
            "Bölüm 30/67 kesiliyor (00:58:00 - 01:00:00)...\n",
            "Bölüm 31/67 kesiliyor (01:00:00 - 01:02:00)...\n",
            "Bölüm 32/67 kesiliyor (01:02:00 - 01:04:00)...\n",
            "Bölüm 33/67 kesiliyor (01:04:00 - 01:06:00)...\n",
            "Bölüm 34/67 kesiliyor (01:06:00 - 01:08:00)...\n",
            "Bölüm 35/67 kesiliyor (01:08:00 - 01:10:00)...\n",
            "Bölüm 36/67 kesiliyor (01:10:00 - 01:12:00)...\n",
            "Bölüm 37/67 kesiliyor (01:12:00 - 01:14:00)...\n",
            "Bölüm 38/67 kesiliyor (01:14:00 - 01:16:00)...\n",
            "Bölüm 39/67 kesiliyor (01:16:00 - 01:18:00)...\n",
            "Bölüm 40/67 kesiliyor (01:18:00 - 01:20:00)...\n",
            "Bölüm 41/67 kesiliyor (01:20:00 - 01:22:00)...\n",
            "Bölüm 42/67 kesiliyor (01:22:00 - 01:24:00)...\n",
            "Bölüm 43/67 kesiliyor (01:24:00 - 01:26:00)...\n",
            "Bölüm 44/67 kesiliyor (01:26:00 - 01:28:00)...\n",
            "Bölüm 45/67 kesiliyor (01:28:00 - 01:30:00)...\n",
            "Bölüm 46/67 kesiliyor (01:30:00 - 01:32:00)...\n",
            "Bölüm 47/67 kesiliyor (01:32:00 - 01:34:00)...\n",
            "Bölüm 48/67 kesiliyor (01:34:00 - 01:36:00)...\n",
            "Bölüm 49/67 kesiliyor (01:36:00 - 01:38:00)...\n",
            "Bölüm 50/67 kesiliyor (01:38:00 - 01:40:00)...\n",
            "Bölüm 51/67 kesiliyor (01:40:00 - 01:42:00)...\n",
            "Bölüm 52/67 kesiliyor (01:42:00 - 01:44:00)...\n",
            "Bölüm 53/67 kesiliyor (01:44:00 - 01:46:00)...\n",
            "Bölüm 54/67 kesiliyor (01:46:00 - 01:48:00)...\n",
            "Bölüm 55/67 kesiliyor (01:48:00 - 01:50:00)...\n",
            "Bölüm 56/67 kesiliyor (01:50:00 - 01:52:00)...\n",
            "Bölüm 57/67 kesiliyor (01:52:00 - 01:54:00)...\n",
            "Bölüm 58/67 kesiliyor (01:54:00 - 01:56:00)...\n",
            "Bölüm 59/67 kesiliyor (01:56:00 - 01:58:00)...\n",
            "Bölüm 60/67 kesiliyor (01:58:00 - 02:00:00)...\n",
            "Bölüm 61/67 kesiliyor (02:00:00 - 02:02:00)...\n",
            "Bölüm 62/67 kesiliyor (02:02:00 - 02:04:00)...\n",
            "Bölüm 63/67 kesiliyor (02:04:00 - 02:06:00)...\n",
            "Bölüm 64/67 kesiliyor (02:06:00 - 02:08:00)...\n",
            "Bölüm 65/67 kesiliyor (02:08:00 - 02:10:00)...\n",
            "Bölüm 66/67 kesiliyor (02:10:00 - 02:12:00)...\n",
            "Bölüm 67/67 kesiliyor (02:12:00 - 02:13:56)...\n",
            "Bölme işlemi tamamlandı. 67 parça oluşturuldu.\n",
            "\n",
            "GPU kullanılıyor: Tesla T4\n",
            "\n",
            "--- 3. MODEL YÜKLEME ---\n",
            "large boyutunda model yükleniyor...\n",
            "Model yüklendi\n",
            "\n",
            "--- 4. TRANSKRİPT OLUŞTURMA ---\n",
            "\n",
            "Ses parçası 1/67 işleniyor...\n",
            "Segment işleniyor: youtube_video_9jJt-ndMfVk_audio_part01.mp3\n"
          ]
        },
        {
          "output_type": "stream",
          "name": "stderr",
          "text": [
            "100%|██████████| 11999/11999 [00:45<00:00, 262.11frames/s]\n"
          ]
        },
        {
          "output_type": "stream",
          "name": "stdout",
          "text": [
            "Segment tamamlandı: youtube_video_9jJt-ndMfVk_audio_part01_transkript.txt\n",
            "İşlem süresi: 46.36 saniye (46 saniye)\n",
            "Bellek temizleniyor...\n",
            "Bellek temizlendi.\n",
            "\n",
            "Ses parçası 2/67 işleniyor...\n",
            "Segment işleniyor: youtube_video_9jJt-ndMfVk_audio_part02.mp3\n"
          ]
        },
        {
          "output_type": "stream",
          "name": "stderr",
          "text": [
            "100%|██████████| 11995/11995 [01:06<00:00, 180.76frames/s]\n"
          ]
        },
        {
          "output_type": "stream",
          "name": "stdout",
          "text": [
            "Segment tamamlandı: youtube_video_9jJt-ndMfVk_audio_part02_transkript.txt\n",
            "İşlem süresi: 66.73 saniye (1 dakika 6 saniye)\n",
            "Bellek temizleniyor...\n",
            "Bellek temizlendi.\n",
            "\n",
            "Ses parçası 3/67 işleniyor...\n",
            "Segment işleniyor: youtube_video_9jJt-ndMfVk_audio_part03.mp3\n"
          ]
        },
        {
          "output_type": "stream",
          "name": "stderr",
          "text": [
            "100%|██████████| 11995/11995 [00:56<00:00, 213.31frames/s]\n"
          ]
        },
        {
          "output_type": "stream",
          "name": "stdout",
          "text": [
            "Segment tamamlandı: youtube_video_9jJt-ndMfVk_audio_part03_transkript.txt\n",
            "İşlem süresi: 56.58 saniye (56 saniye)\n",
            "Bellek temizleniyor...\n",
            "Bellek temizlendi.\n",
            "\n",
            "Ses parçası 4/67 işleniyor...\n",
            "Segment işleniyor: youtube_video_9jJt-ndMfVk_audio_part04.mp3\n"
          ]
        },
        {
          "output_type": "stream",
          "name": "stderr",
          "text": [
            "100%|██████████| 11999/11999 [01:12<00:00, 166.33frames/s]\n"
          ]
        },
        {
          "output_type": "stream",
          "name": "stdout",
          "text": [
            "Segment tamamlandı: youtube_video_9jJt-ndMfVk_audio_part04_transkript.txt\n",
            "İşlem süresi: 72.50 saniye (1 dakika 12 saniye)\n",
            "Bellek temizleniyor...\n",
            "Bellek temizlendi.\n",
            "\n",
            "Ses parçası 5/67 işleniyor...\n",
            "Segment işleniyor: youtube_video_9jJt-ndMfVk_audio_part05.mp3\n"
          ]
        },
        {
          "output_type": "stream",
          "name": "stderr",
          "text": [
            "100%|██████████| 11995/11995 [01:03<00:00, 187.60frames/s]\n"
          ]
        },
        {
          "output_type": "stream",
          "name": "stdout",
          "text": [
            "Segment tamamlandı: youtube_video_9jJt-ndMfVk_audio_part05_transkript.txt\n",
            "İşlem süresi: 64.30 saniye (1 dakika 4 saniye)\n",
            "Bellek temizleniyor...\n",
            "Bellek temizlendi.\n",
            "\n",
            "Ses parçası 6/67 işleniyor...\n",
            "Segment işleniyor: youtube_video_9jJt-ndMfVk_audio_part06.mp3\n"
          ]
        },
        {
          "output_type": "stream",
          "name": "stderr",
          "text": [
            "100%|██████████| 11995/11995 [01:03<00:00, 188.84frames/s]\n"
          ]
        },
        {
          "output_type": "stream",
          "name": "stdout",
          "text": [
            "Segment tamamlandı: youtube_video_9jJt-ndMfVk_audio_part06_transkript.txt\n",
            "İşlem süresi: 63.90 saniye (1 dakika 3 saniye)\n",
            "Bellek temizleniyor...\n",
            "Bellek temizlendi.\n",
            "\n",
            "Ses parçası 7/67 işleniyor...\n",
            "Segment işleniyor: youtube_video_9jJt-ndMfVk_audio_part07.mp3\n"
          ]
        },
        {
          "output_type": "stream",
          "name": "stderr",
          "text": [
            "100%|██████████| 11999/11999 [01:06<00:00, 180.85frames/s]\n"
          ]
        },
        {
          "output_type": "stream",
          "name": "stdout",
          "text": [
            "Segment tamamlandı: youtube_video_9jJt-ndMfVk_audio_part07_transkript.txt\n",
            "İşlem süresi: 66.70 saniye (1 dakika 6 saniye)\n",
            "Bellek temizleniyor...\n",
            "Bellek temizlendi.\n",
            "\n",
            "Ses parçası 8/67 işleniyor...\n",
            "Segment işleniyor: youtube_video_9jJt-ndMfVk_audio_part08.mp3\n"
          ]
        },
        {
          "output_type": "stream",
          "name": "stderr",
          "text": [
            "100%|██████████| 11995/11995 [00:59<00:00, 202.79frames/s]\n"
          ]
        },
        {
          "output_type": "stream",
          "name": "stdout",
          "text": [
            "Segment tamamlandı: youtube_video_9jJt-ndMfVk_audio_part08_transkript.txt\n",
            "İşlem süresi: 59.51 saniye (59 saniye)\n",
            "Bellek temizleniyor...\n",
            "Bellek temizlendi.\n",
            "\n",
            "Ses parçası 9/67 işleniyor...\n",
            "Segment işleniyor: youtube_video_9jJt-ndMfVk_audio_part09.mp3\n"
          ]
        },
        {
          "output_type": "stream",
          "name": "stderr",
          "text": [
            "100%|██████████| 11995/11995 [01:06<00:00, 180.85frames/s]\n"
          ]
        },
        {
          "output_type": "stream",
          "name": "stdout",
          "text": [
            "Segment tamamlandı: youtube_video_9jJt-ndMfVk_audio_part09_transkript.txt\n",
            "İşlem süresi: 66.70 saniye (1 dakika 6 saniye)\n",
            "Bellek temizleniyor...\n",
            "Bellek temizlendi.\n",
            "\n",
            "Ses parçası 10/67 işleniyor...\n",
            "Segment işleniyor: youtube_video_9jJt-ndMfVk_audio_part10.mp3\n"
          ]
        },
        {
          "output_type": "stream",
          "name": "stderr",
          "text": [
            "100%|██████████| 11999/11999 [00:54<00:00, 221.35frames/s]\n"
          ]
        },
        {
          "output_type": "stream",
          "name": "stdout",
          "text": [
            "Segment tamamlandı: youtube_video_9jJt-ndMfVk_audio_part10_transkript.txt\n",
            "İşlem süresi: 54.58 saniye (54 saniye)\n",
            "Bellek temizleniyor...\n",
            "Bellek temizlendi.\n",
            "\n",
            "Ses parçası 11/67 işleniyor...\n",
            "Segment işleniyor: youtube_video_9jJt-ndMfVk_audio_part11.mp3\n"
          ]
        },
        {
          "output_type": "stream",
          "name": "stderr",
          "text": [
            "100%|██████████| 11995/11995 [01:04<00:00, 186.44frames/s]\n"
          ]
        },
        {
          "output_type": "stream",
          "name": "stdout",
          "text": [
            "Segment tamamlandı: youtube_video_9jJt-ndMfVk_audio_part11_transkript.txt\n",
            "İşlem süresi: 64.70 saniye (1 dakika 4 saniye)\n",
            "Bellek temizleniyor...\n",
            "Bellek temizlendi.\n",
            "\n",
            "Ses parçası 12/67 işleniyor...\n",
            "Segment işleniyor: youtube_video_9jJt-ndMfVk_audio_part12.mp3\n"
          ]
        },
        {
          "output_type": "stream",
          "name": "stderr",
          "text": [
            "100%|██████████| 11995/11995 [01:09<00:00, 173.74frames/s]\n"
          ]
        },
        {
          "output_type": "stream",
          "name": "stdout",
          "text": [
            "Segment tamamlandı: youtube_video_9jJt-ndMfVk_audio_part12_transkript.txt\n",
            "İşlem süresi: 69.47 saniye (1 dakika 9 saniye)\n",
            "Bellek temizleniyor...\n",
            "Bellek temizlendi.\n",
            "\n",
            "Ses parçası 13/67 işleniyor...\n",
            "Segment işleniyor: youtube_video_9jJt-ndMfVk_audio_part13.mp3\n"
          ]
        },
        {
          "output_type": "stream",
          "name": "stderr",
          "text": [
            "100%|██████████| 11999/11999 [00:53<00:00, 223.17frames/s]\n"
          ]
        },
        {
          "output_type": "stream",
          "name": "stdout",
          "text": [
            "Segment tamamlandı: youtube_video_9jJt-ndMfVk_audio_part13_transkript.txt\n",
            "İşlem süresi: 54.13 saniye (54 saniye)\n",
            "Bellek temizleniyor...\n",
            "Bellek temizlendi.\n",
            "\n",
            "Ses parçası 14/67 işleniyor...\n",
            "Segment işleniyor: youtube_video_9jJt-ndMfVk_audio_part14.mp3\n"
          ]
        },
        {
          "output_type": "stream",
          "name": "stderr",
          "text": [
            "100%|██████████| 11995/11995 [02:34<00:00, 77.43frames/s]\n"
          ]
        },
        {
          "output_type": "stream",
          "name": "stdout",
          "text": [
            "Segment tamamlandı: youtube_video_9jJt-ndMfVk_audio_part14_transkript.txt\n",
            "İşlem süresi: 155.30 saniye (2 dakika 35 saniye)\n",
            "Bellek temizleniyor...\n",
            "Bellek temizlendi.\n",
            "\n",
            "Ses parçası 15/67 işleniyor...\n",
            "Segment işleniyor: youtube_video_9jJt-ndMfVk_audio_part15.mp3\n"
          ]
        },
        {
          "output_type": "stream",
          "name": "stderr",
          "text": [
            "100%|██████████| 11995/11995 [01:02<00:00, 192.01frames/s]\n"
          ]
        },
        {
          "output_type": "stream",
          "name": "stdout",
          "text": [
            "Segment tamamlandı: youtube_video_9jJt-ndMfVk_audio_part15_transkript.txt\n",
            "İşlem süresi: 62.83 saniye (1 dakika 2 saniye)\n",
            "Bellek temizleniyor...\n",
            "Bellek temizlendi.\n",
            "\n",
            "Ses parçası 16/67 işleniyor...\n",
            "Segment işleniyor: youtube_video_9jJt-ndMfVk_audio_part16.mp3\n"
          ]
        },
        {
          "output_type": "stream",
          "name": "stderr",
          "text": [
            "100%|██████████| 11999/11999 [01:07<00:00, 177.86frames/s]\n"
          ]
        },
        {
          "output_type": "stream",
          "name": "stdout",
          "text": [
            "Segment tamamlandı: youtube_video_9jJt-ndMfVk_audio_part16_transkript.txt\n",
            "İşlem süresi: 67.82 saniye (1 dakika 7 saniye)\n",
            "Bellek temizleniyor...\n",
            "Bellek temizlendi.\n",
            "\n",
            "Ses parçası 17/67 işleniyor...\n",
            "Segment işleniyor: youtube_video_9jJt-ndMfVk_audio_part17.mp3\n"
          ]
        },
        {
          "output_type": "stream",
          "name": "stderr",
          "text": [
            "100%|██████████| 11995/11995 [01:07<00:00, 176.61frames/s]\n"
          ]
        },
        {
          "output_type": "stream",
          "name": "stdout",
          "text": [
            "Segment tamamlandı: youtube_video_9jJt-ndMfVk_audio_part17_transkript.txt\n",
            "İşlem süresi: 68.25 saniye (1 dakika 8 saniye)\n",
            "Bellek temizleniyor...\n",
            "Bellek temizlendi.\n",
            "\n",
            "Ses parçası 18/67 işleniyor...\n",
            "Segment işleniyor: youtube_video_9jJt-ndMfVk_audio_part18.mp3\n"
          ]
        },
        {
          "output_type": "stream",
          "name": "stderr",
          "text": [
            "100%|██████████| 11995/11995 [01:17<00:00, 154.99frames/s]\n"
          ]
        },
        {
          "output_type": "stream",
          "name": "stdout",
          "text": [
            "Segment tamamlandı: youtube_video_9jJt-ndMfVk_audio_part18_transkript.txt\n",
            "İşlem süresi: 77.75 saniye (1 dakika 17 saniye)\n",
            "Bellek temizleniyor...\n",
            "Bellek temizlendi.\n",
            "\n",
            "Ses parçası 19/67 işleniyor...\n",
            "Segment işleniyor: youtube_video_9jJt-ndMfVk_audio_part19.mp3\n"
          ]
        },
        {
          "output_type": "stream",
          "name": "stderr",
          "text": [
            "100%|██████████| 11999/11999 [02:24<00:00, 83.02frames/s]\n"
          ]
        },
        {
          "output_type": "stream",
          "name": "stdout",
          "text": [
            "Segment tamamlandı: youtube_video_9jJt-ndMfVk_audio_part19_transkript.txt\n",
            "İşlem süresi: 144.94 saniye (2 dakika 24 saniye)\n",
            "Bellek temizleniyor...\n",
            "Bellek temizlendi.\n",
            "\n",
            "Ses parçası 20/67 işleniyor...\n",
            "Segment işleniyor: youtube_video_9jJt-ndMfVk_audio_part20.mp3\n"
          ]
        },
        {
          "output_type": "stream",
          "name": "stderr",
          "text": [
            "100%|██████████| 11995/11995 [01:11<00:00, 167.74frames/s]\n"
          ]
        },
        {
          "output_type": "stream",
          "name": "stdout",
          "text": [
            "Segment tamamlandı: youtube_video_9jJt-ndMfVk_audio_part20_transkript.txt\n",
            "İşlem süresi: 71.87 saniye (1 dakika 11 saniye)\n",
            "Bellek temizleniyor...\n",
            "Bellek temizlendi.\n",
            "\n",
            "Ses parçası 21/67 işleniyor...\n",
            "Segment işleniyor: youtube_video_9jJt-ndMfVk_audio_part21.mp3\n"
          ]
        },
        {
          "output_type": "stream",
          "name": "stderr",
          "text": [
            "100%|██████████| 11995/11995 [02:59<00:00, 66.76frames/s]\n"
          ]
        },
        {
          "output_type": "stream",
          "name": "stdout",
          "text": [
            "Segment tamamlandı: youtube_video_9jJt-ndMfVk_audio_part21_transkript.txt\n",
            "İşlem süresi: 180.11 saniye (3 dakika 0 saniye)\n",
            "Bellek temizleniyor...\n",
            "Bellek temizlendi.\n",
            "\n",
            "Ses parçası 22/67 işleniyor...\n",
            "Segment işleniyor: youtube_video_9jJt-ndMfVk_audio_part22.mp3\n"
          ]
        },
        {
          "output_type": "stream",
          "name": "stderr",
          "text": [
            "100%|██████████| 11999/11999 [00:54<00:00, 221.48frames/s]\n"
          ]
        },
        {
          "output_type": "stream",
          "name": "stdout",
          "text": [
            "Segment tamamlandı: youtube_video_9jJt-ndMfVk_audio_part22_transkript.txt\n",
            "İşlem süresi: 54.55 saniye (54 saniye)\n",
            "Bellek temizleniyor...\n",
            "Bellek temizlendi.\n",
            "\n",
            "Ses parçası 23/67 işleniyor...\n",
            "Segment işleniyor: youtube_video_9jJt-ndMfVk_audio_part23.mp3\n"
          ]
        },
        {
          "output_type": "stream",
          "name": "stderr",
          "text": [
            "100%|██████████| 11995/11995 [02:26<00:00, 82.11frames/s]\n"
          ]
        },
        {
          "output_type": "stream",
          "name": "stdout",
          "text": [
            "Segment tamamlandı: youtube_video_9jJt-ndMfVk_audio_part23_transkript.txt\n",
            "İşlem süresi: 146.44 saniye (2 dakika 26 saniye)\n",
            "Bellek temizleniyor...\n",
            "Bellek temizlendi.\n",
            "\n",
            "Ses parçası 24/67 işleniyor...\n",
            "Segment işleniyor: youtube_video_9jJt-ndMfVk_audio_part24.mp3\n"
          ]
        },
        {
          "output_type": "stream",
          "name": "stderr",
          "text": [
            "100%|██████████| 11995/11995 [02:51<00:00, 70.10frames/s]\n"
          ]
        },
        {
          "output_type": "stream",
          "name": "stdout",
          "text": [
            "Segment tamamlandı: youtube_video_9jJt-ndMfVk_audio_part24_transkript.txt\n",
            "İşlem süresi: 171.48 saniye (2 dakika 51 saniye)\n",
            "Bellek temizleniyor...\n",
            "Bellek temizlendi.\n",
            "\n",
            "Ses parçası 25/67 işleniyor...\n",
            "Segment işleniyor: youtube_video_9jJt-ndMfVk_audio_part25.mp3\n"
          ]
        },
        {
          "output_type": "stream",
          "name": "stderr",
          "text": [
            "100%|██████████| 11999/11999 [01:12<00:00, 165.69frames/s]\n"
          ]
        },
        {
          "output_type": "stream",
          "name": "stdout",
          "text": [
            "Segment tamamlandı: youtube_video_9jJt-ndMfVk_audio_part25_transkript.txt\n",
            "İşlem süresi: 72.78 saniye (1 dakika 12 saniye)\n",
            "Bellek temizleniyor...\n",
            "Bellek temizlendi.\n",
            "\n",
            "Ses parçası 26/67 işleniyor...\n",
            "Segment işleniyor: youtube_video_9jJt-ndMfVk_audio_part26.mp3\n"
          ]
        },
        {
          "output_type": "stream",
          "name": "stderr",
          "text": [
            "100%|██████████| 11995/11995 [01:22<00:00, 145.64frames/s]\n"
          ]
        },
        {
          "output_type": "stream",
          "name": "stdout",
          "text": [
            "Segment tamamlandı: youtube_video_9jJt-ndMfVk_audio_part26_transkript.txt\n",
            "İşlem süresi: 82.73 saniye (1 dakika 22 saniye)\n",
            "Bellek temizleniyor...\n",
            "Bellek temizlendi.\n",
            "\n",
            "Ses parçası 27/67 işleniyor...\n",
            "Segment işleniyor: youtube_video_9jJt-ndMfVk_audio_part27.mp3\n"
          ]
        },
        {
          "output_type": "stream",
          "name": "stderr",
          "text": [
            "100%|██████████| 11995/11995 [01:14<00:00, 160.62frames/s]\n"
          ]
        },
        {
          "output_type": "stream",
          "name": "stdout",
          "text": [
            "Segment tamamlandı: youtube_video_9jJt-ndMfVk_audio_part27_transkript.txt\n",
            "İşlem süresi: 75.03 saniye (1 dakika 15 saniye)\n",
            "Bellek temizleniyor...\n",
            "Bellek temizlendi.\n",
            "\n",
            "Ses parçası 28/67 işleniyor...\n",
            "Segment işleniyor: youtube_video_9jJt-ndMfVk_audio_part28.mp3\n"
          ]
        },
        {
          "output_type": "stream",
          "name": "stderr",
          "text": [
            "100%|██████████| 11999/11999 [00:59<00:00, 201.22frames/s]\n"
          ]
        },
        {
          "output_type": "stream",
          "name": "stdout",
          "text": [
            "Segment tamamlandı: youtube_video_9jJt-ndMfVk_audio_part28_transkript.txt\n",
            "İşlem süresi: 60.03 saniye (1 dakika 0 saniye)\n",
            "Bellek temizleniyor...\n",
            "Bellek temizlendi.\n",
            "\n",
            "Ses parçası 29/67 işleniyor...\n",
            "Segment işleniyor: youtube_video_9jJt-ndMfVk_audio_part29.mp3\n"
          ]
        },
        {
          "output_type": "stream",
          "name": "stderr",
          "text": [
            "100%|██████████| 11995/11995 [01:08<00:00, 176.14frames/s]\n"
          ]
        },
        {
          "output_type": "stream",
          "name": "stdout",
          "text": [
            "Segment tamamlandı: youtube_video_9jJt-ndMfVk_audio_part29_transkript.txt\n",
            "İşlem süresi: 68.44 saniye (1 dakika 8 saniye)\n",
            "Bellek temizleniyor...\n",
            "Bellek temizlendi.\n",
            "\n",
            "Ses parçası 30/67 işleniyor...\n",
            "Segment işleniyor: youtube_video_9jJt-ndMfVk_audio_part30.mp3\n"
          ]
        },
        {
          "output_type": "stream",
          "name": "stderr",
          "text": [
            "100%|██████████| 11995/11995 [01:22<00:00, 144.56frames/s]\n"
          ]
        },
        {
          "output_type": "stream",
          "name": "stdout",
          "text": [
            "Segment tamamlandı: youtube_video_9jJt-ndMfVk_audio_part30_transkript.txt\n",
            "İşlem süresi: 83.35 saniye (1 dakika 23 saniye)\n",
            "Bellek temizleniyor...\n",
            "Bellek temizlendi.\n",
            "\n",
            "Ses parçası 31/67 işleniyor...\n",
            "Segment işleniyor: youtube_video_9jJt-ndMfVk_audio_part31.mp3\n"
          ]
        },
        {
          "output_type": "stream",
          "name": "stderr",
          "text": [
            "100%|██████████| 11999/11999 [01:04<00:00, 185.63frames/s]\n"
          ]
        },
        {
          "output_type": "stream",
          "name": "stdout",
          "text": [
            "Segment tamamlandı: youtube_video_9jJt-ndMfVk_audio_part31_transkript.txt\n",
            "İşlem süresi: 65.01 saniye (1 dakika 5 saniye)\n",
            "Bellek temizleniyor...\n",
            "Bellek temizlendi.\n",
            "\n",
            "Ses parçası 32/67 işleniyor...\n",
            "Segment işleniyor: youtube_video_9jJt-ndMfVk_audio_part32.mp3\n"
          ]
        },
        {
          "output_type": "stream",
          "name": "stderr",
          "text": [
            "100%|██████████| 11995/11995 [01:10<00:00, 169.33frames/s]\n"
          ]
        },
        {
          "output_type": "stream",
          "name": "stdout",
          "text": [
            "Segment tamamlandı: youtube_video_9jJt-ndMfVk_audio_part32_transkript.txt\n",
            "İşlem süresi: 71.19 saniye (1 dakika 11 saniye)\n",
            "Bellek temizleniyor...\n",
            "Bellek temizlendi.\n",
            "\n",
            "Ses parçası 33/67 işleniyor...\n",
            "Segment işleniyor: youtube_video_9jJt-ndMfVk_audio_part33.mp3\n"
          ]
        },
        {
          "output_type": "stream",
          "name": "stderr",
          "text": [
            "100%|██████████| 11995/11995 [01:03<00:00, 189.24frames/s]\n"
          ]
        },
        {
          "output_type": "stream",
          "name": "stdout",
          "text": [
            "Segment tamamlandı: youtube_video_9jJt-ndMfVk_audio_part33_transkript.txt\n",
            "İşlem süresi: 63.76 saniye (1 dakika 3 saniye)\n",
            "Bellek temizleniyor...\n",
            "Bellek temizlendi.\n",
            "\n",
            "Ses parçası 34/67 işleniyor...\n",
            "Segment işleniyor: youtube_video_9jJt-ndMfVk_audio_part34.mp3\n"
          ]
        },
        {
          "output_type": "stream",
          "name": "stderr",
          "text": [
            "100%|██████████| 11999/11999 [01:01<00:00, 194.69frames/s]\n"
          ]
        },
        {
          "output_type": "stream",
          "name": "stdout",
          "text": [
            "Segment tamamlandı: youtube_video_9jJt-ndMfVk_audio_part34_transkript.txt\n",
            "İşlem süresi: 61.98 saniye (1 dakika 1 saniye)\n",
            "Bellek temizleniyor...\n",
            "Bellek temizlendi.\n",
            "\n",
            "Ses parçası 35/67 işleniyor...\n",
            "Segment işleniyor: youtube_video_9jJt-ndMfVk_audio_part35.mp3\n"
          ]
        },
        {
          "output_type": "stream",
          "name": "stderr",
          "text": [
            "100%|██████████| 11995/11995 [02:53<00:00, 69.11frames/s]\n"
          ]
        },
        {
          "output_type": "stream",
          "name": "stdout",
          "text": [
            "Segment tamamlandı: youtube_video_9jJt-ndMfVk_audio_part35_transkript.txt\n",
            "İşlem süresi: 173.89 saniye (2 dakika 53 saniye)\n",
            "Bellek temizleniyor...\n",
            "Bellek temizlendi.\n",
            "\n",
            "Ses parçası 36/67 işleniyor...\n",
            "Segment işleniyor: youtube_video_9jJt-ndMfVk_audio_part36.mp3\n"
          ]
        },
        {
          "output_type": "stream",
          "name": "stderr",
          "text": [
            "100%|██████████| 11995/11995 [01:33<00:00, 127.80frames/s]\n"
          ]
        },
        {
          "output_type": "stream",
          "name": "stdout",
          "text": [
            "Segment tamamlandı: youtube_video_9jJt-ndMfVk_audio_part36_transkript.txt\n",
            "İşlem süresi: 94.21 saniye (1 dakika 34 saniye)\n",
            "Bellek temizleniyor...\n",
            "Bellek temizlendi.\n",
            "\n",
            "Ses parçası 37/67 işleniyor...\n",
            "Segment işleniyor: youtube_video_9jJt-ndMfVk_audio_part37.mp3\n"
          ]
        },
        {
          "output_type": "stream",
          "name": "stderr",
          "text": [
            " 97%|█████████▋| 11634/11999 [00:52<00:01, 212.32frames/s]"
          ]
        }
      ]
    }
  ]
}